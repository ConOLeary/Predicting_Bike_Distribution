{
 "cells": [
  {
   "cell_type": "code",
   "execution_count": 32,
   "metadata": {},
   "outputs": [],
   "source": [
    "import csv, sys\n",
    "import datetime\n",
    "\n",
    "INPUT_ROWS_LIMIT= 100\n",
    "FILENAME= 'dublinbikes_2020_Q1.csv'\n",
    "MAX_STATION_ID= 117\n",
    "SECS_IN_5MIN= 300\n",
    "MISSING_STATIONS= [117, 116, 70, 60, 46, 35, 20, 14, 1]"
   ]
  },
  {
   "cell_type": "code",
   "execution_count": 33,
   "metadata": {},
   "outputs": [],
   "source": [
    "class StationConstantInfo: # this is a class to contain constant information about stations (so as to avoid unnecessary repeat reading of them)\n",
    "    def __init__(self, station_id):\n",
    "        self.station_id= station_id\n",
    "        \n",
    "    def populate(self, station_name, bike_capacity, address, latitude, longitude):\n",
    "        self.station_name= station_name\n",
    "        self.bike_capacity= bike_capacity\n",
    "        self.address= address\n",
    "        self.latitude= latitude\n",
    "        self.longitude= longitude"
   ]
  },
  {
   "cell_type": "code",
   "execution_count": 36,
   "metadata": {
    "scrolled": true
   },
   "outputs": [],
   "source": [
    "station_id= []; epoch_time= []; percent_bikes_available= [];\n",
    "station_constants= [StationConstantInfo(i) for i in range(1, MAX_STATION_ID + 1)]\n",
    "ids_to_populate= list(range(1, MAX_STATION_ID + 1))\n",
    "for missing_id in MISSING_STATIONS:\n",
    "    ids_to_populate.remove(missing_id)\n",
    "\n",
    "with open(FILENAME, newline='') as f:\n",
    "    reader = csv.reader(f); next(reader) # skip header\n",
    "    current_id= 0\n",
    "    try:\n",
    "        while len(ids_to_populate) != 0:\n",
    "            row= next(reader)\n",
    "            if int(row[0]) == current_id: # this 'if' is just for performance\n",
    "                continue\n",
    "            current_id= int(row[0])\n",
    "            if current_id in ids_to_populate:\n",
    "                station_constants[current_id - 2].populate(row[3], row[4], row[8], row[9], row[10])\n",
    "                ids_to_populate.remove(current_id)\n",
    "        for missing_id in MISSING_STATIONS:\n",
    "            station_constants.pop(missing_id - 2)\n",
    "        f.seek(0)\n",
    "        reader= csv.reader(f); row= next(reader) # skip header\n",
    "        for row_i, row in enumerate(reader):\n",
    "            if row_i >= INPUT_ROWS_LIMIT:\n",
    "                break\n",
    "            station_id.append(row[0])\n",
    "            epoch_time.append(int((datetime.datetime(int(row[1][0:4]), int(row[1][5:7]), int(row[1][8:10]), int(row[1][11: 13]), int(row[1][14: 16])) - datetime.datetime(2020,1,1,6,25)).total_seconds() / SECS_IN_5MIN)) # doing this long winded calculation rather than just indexing because I don't trust the data is fully chronological\n",
    "            percent_bikes_available.append(float(row[6]) / float(row[4]))\n",
    "    except csv.Error as e:\n",
    "        sys.exit('file {}, line {}: {}'.format(filename, reader.line_num, e))"
   ]
  },
  {
   "cell_type": "code",
   "execution_count": 37,
   "metadata": {
    "scrolled": true
   },
   "outputs": [
    {
     "name": "stdout",
     "output_type": "stream",
     "text": [
      "[0, 1, 2, 3, 4, 5, 6, 7, 8, 9, 10, 11, 12, 13, 14, 15, 16, 17, 18, 19, 20, 21, 22, 23, 24, 25, 26, 27, 28, 29, 30, 31, 32, 33, 34, 35, 36, 37, 38, 39, 40, 41, 42, 43, 44, 45, 46, 47, 48, 49, 50, 51, 52, 53, 54, 55, 56, 57, 58, 59, 60, 61, 62, 63, 64, 65, 66, 67, 68, 69, 70, 71, 72, 73, 74, 75, 76, 77, 78, 79, 80, 81, 82, 83, 84, 85, 86, 87, 88, 89, 90, 91, 92, 93, 94, 95, 96, 97, 98, 99]\n"
     ]
    }
   ],
   "source": [
    "print(epoch_time)"
   ]
  },
  {
   "cell_type": "code",
   "execution_count": 22,
   "metadata": {},
   "outputs": [
    {
     "name": "stdout",
     "output_type": "stream",
     "text": [
      "14:45:02\n"
     ]
    }
   ],
   "source": [
    "print(row[1][11: 19])"
   ]
  }
 ],
 "metadata": {
  "kernelspec": {
   "display_name": "Python 3",
   "language": "python",
   "name": "python3"
  },
  "language_info": {
   "codemirror_mode": {
    "name": "ipython",
    "version": 3
   },
   "file_extension": ".py",
   "mimetype": "text/x-python",
   "name": "python",
   "nbconvert_exporter": "python",
   "pygments_lexer": "ipython3",
   "version": "3.9.1"
  }
 },
 "nbformat": 4,
 "nbformat_minor": 4
}
