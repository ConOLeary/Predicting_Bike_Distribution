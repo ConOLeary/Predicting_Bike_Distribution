{
 "cells": [
  {
   "cell_type": "code",
   "execution_count": 1,
   "metadata": {},
   "outputs": [],
   "source": [
    "import csv, sys\n",
    "\n",
    "INPUT_ROWS_LIMIT= 100\n",
    "FILENAME= 'dublinbikes_2020_Q1.csv'\n",
    "MAX_STATION_ID= 117\n",
    "MISSING_STATIONS= [117, 116, 70, 60, 46, 35, 20, 14, 1]"
   ]
  },
  {
   "cell_type": "code",
   "execution_count": 2,
   "metadata": {},
   "outputs": [],
   "source": [
    "class StationConstantInfo: # this is a class to contain constant information about stations (so as to avoid unnecessary repeat reading of them)\n",
    "    def __init__(self, station_id):\n",
    "        self.station_id= station_id\n",
    "        \n",
    "    def populate(self, station_name, bike_capacity, address, latitude, longitude):\n",
    "        self.station_name= station_name\n",
    "        self.bike_capacity= bike_capacity\n",
    "        self.address= address\n",
    "        self.latitude= latitude\n",
    "        self.longitude= longitude"
   ]
  },
  {
   "cell_type": "code",
   "execution_count": 3,
   "metadata": {},
   "outputs": [],
   "source": [
    "station_id= []; date= []; time= []; available_bikes= [];\n",
    "station_constants= [StationConstantInfo(i) for i in range(1, MAX_STATION_ID + 1)]\n",
    "ids_to_populate= list(range(1, MAX_STATION_ID + 1))\n",
    "for missing_id in MISSING_STATIONS:\n",
    "    ids_to_populate.remove(missing_id)\n",
    "\n",
    "with open(FILENAME, newline='') as f:\n",
    "    reader = csv.reader(f); next(reader) # skip header\n",
    "    current_id= 0\n",
    "    try:\n",
    "        while len(ids_to_populate) != 0:\n",
    "            row= next(reader)\n",
    "            if int(row[0]) == current_id: # this 'if' is just for performance\n",
    "                continue\n",
    "            current_id= int(row[0])\n",
    "            if current_id in ids_to_populate:\n",
    "                station_constants[current_id - 2].populate(row[3], row[4], row[8], row[9], row[10])\n",
    "                ids_to_populate.remove(current_id)\n",
    "        for missing_id in MISSING_STATIONS:\n",
    "            station_constants.pop(missing_id - 2)\n",
    "        reader = csv.reader(f); next(reader) # skip header\n",
    "        for row_i, row in enumerate(reader):\n",
    "            if row_i >= INPUT_ROWS_LIMIT:\n",
    "                break\n",
    "            station_id.append(row[0])\n",
    "            date.append(row[1][0: 10])\n",
    "            time.append(row[1][11: 19])\n",
    "            available_bikes.append(row[5])\n",
    "    except csv.Error as e:\n",
    "        sys.exit('file {}, line {}: {}'.format(filename, reader.line_num, e))"
   ]
  }
 ],
 "metadata": {
  "kernelspec": {
   "display_name": "Python 3",
   "language": "python",
   "name": "python3"
  },
  "language_info": {
   "codemirror_mode": {
    "name": "ipython",
    "version": 3
   },
   "file_extension": ".py",
   "mimetype": "text/x-python",
   "name": "python",
   "nbconvert_exporter": "python",
   "pygments_lexer": "ipython3",
   "version": "3.9.1"
  }
 },
 "nbformat": 4,
 "nbformat_minor": 4
}
