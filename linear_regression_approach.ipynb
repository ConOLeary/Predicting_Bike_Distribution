{
 "cells": [
  {
   "cell_type": "code",
   "execution_count": 4,
   "metadata": {},
   "outputs": [],
   "source": [
    "import csv, sys\n",
    "import datetime\n",
    "import matplotlib.pyplot as plt\n",
    "import matplotlib.cm as cm\n",
    "import numpy as np\n",
    "\n",
    "TOTAL_ROWS= 1972801\n",
    "INPUT_ROWS_LIMIT= 1000000 # setting this over 1,000,000 causes a bug\n",
    "FILENAME= 'dublinbikes_2020_Q1.csv'\n",
    "MAX_STATION_ID= 117\n",
    "SECS_IN_5MIN= 300\n",
    "DATAPOINTS_PER_DAY= 288\n",
    "MISSING_STATIONS= [117, 116, 70, 60, 46, 35, 20, 14, 1]\n",
    "TOTAL_DAYS= 55\n",
    "MAX_DISPLAYED_STATIONS= 1\n",
    "MAX_DISPLAYED_DAYS= 5\n",
    "\n",
    "class StationConstInfo: # this is a class to contain constant information about stations (so as to avoid unnecessary repeat reading of them)\n",
    "    def __init__(self, station_id):\n",
    "        self.station_id= station_id\n",
    "        self.bike_capacity= -1 # populating with -1 initially as a debugging means\n",
    "        self.address= -1\n",
    "        self.latitude= -1\n",
    "        self.longitude= -1\n",
    "        \n",
    "    def populate(self, station_name, bike_capacity, address, latitude, longitude):\n",
    "        self.station_name= station_name\n",
    "        self.bike_capacity= bike_capacity\n",
    "        self.address= address\n",
    "        self.latitude= latitude\n",
    "        self.longitude= longitude\n",
    "\n",
    "class StationVarInfo:\n",
    "    def __init__(self, station_id):\n",
    "        self.station_id= station_id\n",
    "        self.data_days= [DataDay(i) for i in range(1, TOTAL_DAYS + 1)]\n",
    "\n",
    "class DataDay:\n",
    "    def __init__(self, day_id):\n",
    "        self.day_id= station_id\n",
    "        self.daily_epoch_time= []\n",
    "        self.epoch_time= []\n",
    "        self.percent_bikes_available= []\n",
    "    \n",
    "    def populate(self, daily_epoch_time, epoch_time, percent_bikes_available):\n",
    "        self.daily_epoch_time.append(daily_epoch_time)\n",
    "        self.epoch_time.append(epoch_time)\n",
    "        self.percent_bikes_available.append(percent_bikes_available)"
   ]
  },
  {
   "cell_type": "code",
   "execution_count": 2,
   "metadata": {
    "scrolled": true
   },
   "outputs": [],
   "source": [
    "station_id= []; daily_epoch_time= []; epoch_time= []; percent_bikes_available= [];\n",
    "station_consts= [StationConstInfo(i) for i in range(1, MAX_STATION_ID + 1)] # so MAX_STATION_ID + 1 is not included in the range\n",
    "ids_to_populate= list(range(1, MAX_STATION_ID + 1))\n",
    "for missing_id in MISSING_STATIONS:\n",
    "    ids_to_populate.remove(missing_id)\n",
    "\n",
    "with open(FILENAME, newline='') as f:\n",
    "    reader = csv.reader(f); next(reader) # skip header\n",
    "    current_id= 0\n",
    "    try:\n",
    "        while len(ids_to_populate) != 0:\n",
    "            row= next(reader)\n",
    "            if int(row[0]) == current_id: # this 'if' is just for performance\n",
    "                continue\n",
    "            current_id= int(row[0])\n",
    "            if current_id in ids_to_populate:\n",
    "                station_consts[current_id - 2].populate(row[3], row[4], row[8], row[9], row[10])\n",
    "                ids_to_populate.remove(current_id)\n",
    "        station_vars= [StationVarInfo(i) for i in range(1, MAX_STATION_ID + 1)]\n",
    "        \n",
    "        f.seek(0)\n",
    "        reader= csv.reader(f); row= next(reader) # skip header\n",
    "        for row_i, row in enumerate(reader):\n",
    "            if row_i >= INPUT_ROWS_LIMIT:\n",
    "                break\n",
    "            epoch_time= int((datetime.datetime(int(row[1][0:4]), int(row[1][5:7]), int(row[1][8:10]), int(row[1][11: 13]), int(row[1][14: 16])) - datetime.datetime(2020,1,1,0,0)).total_seconds() / SECS_IN_5MIN) # the unit of this var is 5-minutes\n",
    "            station_vars[int(row[0]) - 1].data_days[int(epoch_time / DATAPOINTS_PER_DAY)].populate( \\\n",
    "                int((datetime.datetime(int(row[1][0:4]), int(row[1][5:7]), int(row[1][8:10]), int(row[1][11: 13]), int(row[1][14: 16])) - datetime.datetime(int(row[1][0:4]), int(row[1][5:7]), int(row[1][8:10]), 0, 0)).total_seconds() / SECS_IN_5MIN), \\\n",
    "                epoch_time, \\\n",
    "                float(\"{:.3f}\".format(float(row[6]) / float(row[4]))))\n",
    "    except csv.Error as e:\n",
    "        sys.exit('file {}, line {}: {}'.format(filename, reader.line_num, e))"
   ]
  },
  {
   "cell_type": "code",
   "execution_count": 5,
   "metadata": {
    "scrolled": false
   },
   "outputs": [
    {
     "data": {
      "image/png": "[encoded data removed]",
      "text/plain": [
       "<Figure size 432x288 with 1 Axes>"
      ]
     },
     "metadata": {},
     "output_type": "display_data"
    }
   ],
   "source": [
    "if MAX_DISPLAYED_DAYS < TOTAL_DAYS:\n",
    "    colors= cm.rainbow(np.linspace(0, 1, MAX_DISPLAYED_DAYS))\n",
    "else:\n",
    "    colors= cm.rainbow(np.linspace(0, 1, TOTAL_DAYS))\n",
    "\n",
    "for (day_i, day), c in zip(enumerate(station_vars[1].data_days), colors): # use day_i + 1 to access days because day 0 is empty but kept so that the day's date works as an array index too\n",
    "    if day_i >= MAX_DISPLAYED_DAYS:\n",
    "        break\n",
    "    #plt.scatter(station.daily_epoch_time, station.percent_bikes_available, 1, marker=\"*\", color= c, linewidth=0.0001)\n",
    "    plt.plot(day.daily_epoch_time, day.percent_bikes_available, 1, color= c, linewidth=1)\n",
    "plt.ylabel('% of station\\'s bikes available')\n",
    "plt.xlabel('time')\n",
    "plt.xticks(())\n",
    "plt.yticks(())\n",
    "\n",
    "plt.show()\n",
    "\n",
    "#plt.scatter(daily_epoch_time, percent_bikes_available,  color='black')"
   ]
  }
 ],
 "metadata": {
  "kernelspec": {
   "display_name": "Python 3",
   "language": "python",
   "name": "python3"
  },
  "language_info": {
   "codemirror_mode": {
    "name": "ipython",
    "version": 3
   },
   "file_extension": ".py",
   "mimetype": "text/x-python",
   "name": "python",
   "nbconvert_exporter": "python",
   "pygments_lexer": "ipython3",
   "version": "3.9.1"
  }
 },
 "nbformat": 4,
 "nbformat_minor": 4
}
