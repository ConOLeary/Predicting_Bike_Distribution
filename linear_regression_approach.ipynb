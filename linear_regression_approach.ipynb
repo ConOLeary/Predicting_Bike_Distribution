{
 "cells": [
  {
   "cell_type": "code",
   "execution_count": 22,
   "metadata": {},
   "outputs": [],
   "source": [
    "import csv, sys\n",
    "\n",
    "INPUT_ROWS_LIMIT= 100\n",
    "FILENAME = 'dublinbikes_2020_Q1.csv'"
   ]
  },
  {
   "cell_type": "code",
   "execution_count": 29,
   "metadata": {},
   "outputs": [
    {
     "name": "stdout",
     "output_type": "stream",
     "text": [
      "06:25:02\n",
      "06:30:02\n",
      "06:35:02\n",
      "06:40:03\n",
      "06:45:02\n",
      "06:50:02\n",
      "06:55:02\n",
      "07:00:02\n",
      "07:05:02\n",
      "07:10:02\n",
      "07:15:02\n",
      "07:20:02\n",
      "07:25:02\n",
      "07:30:02\n",
      "07:35:02\n",
      "07:40:02\n",
      "07:45:02\n",
      "07:50:02\n",
      "07:55:02\n",
      "08:00:02\n",
      "08:05:02\n",
      "08:10:02\n",
      "08:15:02\n",
      "08:20:02\n",
      "08:25:02\n",
      "08:30:02\n",
      "08:35:02\n",
      "08:40:02\n",
      "08:45:02\n",
      "08:50:02\n",
      "08:55:02\n",
      "09:00:02\n",
      "09:05:02\n",
      "09:10:01\n",
      "09:15:02\n",
      "09:20:02\n",
      "09:25:02\n",
      "09:30:02\n",
      "09:35:02\n",
      "09:40:02\n",
      "09:45:02\n",
      "09:50:02\n",
      "09:55:02\n",
      "10:00:02\n",
      "10:05:02\n",
      "10:10:02\n",
      "10:15:02\n",
      "10:20:02\n",
      "10:25:02\n",
      "10:30:02\n",
      "10:35:02\n",
      "10:40:27\n",
      "10:45:02\n",
      "10:50:02\n",
      "10:55:02\n",
      "11:00:02\n",
      "11:05:02\n",
      "11:10:02\n",
      "11:15:03\n",
      "11:20:02\n",
      "11:25:02\n",
      "11:30:02\n",
      "11:35:02\n",
      "11:40:02\n",
      "11:45:02\n",
      "11:50:02\n",
      "11:55:02\n",
      "12:00:02\n",
      "12:05:02\n",
      "12:10:02\n",
      "12:15:02\n",
      "12:20:02\n",
      "12:25:02\n",
      "12:30:03\n",
      "12:35:02\n",
      "12:40:02\n",
      "12:45:02\n",
      "12:50:02\n",
      "12:55:02\n",
      "13:00:02\n",
      "13:05:02\n",
      "13:10:02\n",
      "13:15:02\n",
      "13:20:03\n",
      "13:25:02\n",
      "13:30:02\n",
      "13:35:02\n",
      "13:40:02\n",
      "13:45:02\n",
      "13:50:02\n",
      "13:55:02\n",
      "14:00:02\n",
      "14:05:02\n",
      "14:10:01\n",
      "14:15:02\n",
      "14:20:02\n",
      "14:25:02\n",
      "14:30:02\n",
      "14:35:02\n",
      "14:40:02\n"
     ]
    }
   ],
   "source": [
    "station_id= []; date= []; time= []; available_bikes= [];\n",
    "with open(FILENAME, newline='') as f:\n",
    "    reader = csv.reader(f)\n",
    "    next(reader) # skip header\n",
    "    try:\n",
    "        for row_i, row in enumerate(reader):\n",
    "            if row_i >= INPUT_ROWS_LIMIT:\n",
    "                break\n",
    "            station_id.append(row[0])\n",
    "            date.append(row[1][0: 10])\n",
    "            time.append(row[1][11: 19])\n",
    "            print(row[1])\n",
    "    except csv.Error as e:\n",
    "        sys.exit('file {}, line {}: {}'.format(filename, reader.line_num, e))"
   ]
  },
  {
   "cell_type": "code",
   "execution_count": 7,
   "metadata": {},
   "outputs": [
    {
     "name": "stdout",
     "output_type": "stream",
     "text": [
      "['2', '2', '2', '2', '2', '2', '2', '2', '2', '2', '2', '2', '2', '2', '2', '2', '2', '2', '2', '2', '2', '2', '2', '2', '2', '2', '2', '2', '2', '2', '2', '2', '2', '2', '2', '2', '2', '2', '2', '2', '2', '2', '2', '2', '2', '2', '2', '2', '2', '2', '2', '2', '2', '2', '2', '2', '2', '2', '2', '2', '2', '2', '2', '2', '2', '2', '2', '2', '2', '2', '2', '2', '2', '2', '2', '2', '2', '2', '2', '2', '2', '2', '2', '2', '2', '2', '2', '2', '2', '2', '2', '2', '2', '2', '2', '2', '2', '2', '2', '2']\n"
     ]
    }
   ],
   "source": [
    "print(station_id)"
   ]
  },
  {
   "cell_type": "code",
   "execution_count": null,
   "metadata": {},
   "outputs": [],
   "source": []
  }
 ],
 "metadata": {
  "kernelspec": {
   "display_name": "Python 3",
   "language": "python",
   "name": "python3"
  },
  "language_info": {
   "codemirror_mode": {
    "name": "ipython",
    "version": 3
   },
   "file_extension": ".py",
   "mimetype": "text/x-python",
   "name": "python",
   "nbconvert_exporter": "python",
   "pygments_lexer": "ipython3",
   "version": "3.9.1"
  }
 },
 "nbformat": 4,
 "nbformat_minor": 4
}
